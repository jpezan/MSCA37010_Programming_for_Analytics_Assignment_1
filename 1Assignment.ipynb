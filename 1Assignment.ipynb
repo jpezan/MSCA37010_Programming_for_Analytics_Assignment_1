{
 "cells": [
  {
   "cell_type": "markdown",
   "id": "c09de68f-7a95-443b-9d5a-87a1b2d9b51d",
   "metadata": {},
   "source": [
    "# Assignment 1: How often are Toyotas towed in Chicago?"
   ]
  },
  {
   "cell_type": "markdown",
   "id": "755369f4-c942-4be1-bf56-bbea478e4c44",
   "metadata": {},
   "source": [
    "### Author: Jacqueline Pezan\n",
    "### Class: MSCA 37010 Programming For Analytics\n",
    "### Date: 10-15-2021"
   ]
  },
  {
   "cell_type": "code",
   "execution_count": 3,
   "id": "57241a39-cdb6-4106-acf9-7de8fa649392",
   "metadata": {},
   "outputs": [],
   "source": [
    "# Open File\n",
    "file = open(\"../../datasets/CityofChicago/Towed_Vehicles.csv\", \"r\", encoding='utf8')\n",
    "#[line for line in open(file, \"r\", encoding='utf8')][:10]\n",
    "\n",
    "#ref for markdown extension \n",
    "# https://jupyter-contrib-nbextensions.readthedocs.io/en/latest/nbextensions/python-markdown/readme.html"
   ]
  },
  {
   "cell_type": "code",
   "execution_count": 32,
   "id": "9db3d2de-0e5d-4c76-962c-bbbee080f8a3",
   "metadata": {},
   "outputs": [],
   "source": [
    "# Isolate Make Column & Varaibles From Dataset\n",
    "make = {}\n",
    "with file as csv: \n",
    "    for line in csv: \n",
    "        data = line.split(',')\n",
    "        mk = data[1]\n",
    "        if mk not in make: \n",
    "            make[mk] = 1\n",
    "        else: \n",
    "            make[mk] += 1"
   ]
  },
  {
   "cell_type": "code",
   "execution_count": 37,
   "id": "c8f669de-f3aa-4254-aa0c-db34e208f5d3",
   "metadata": {},
   "outputs": [],
   "source": [
    "# Sum of Total Cars\n",
    "totalCars = sum(make.values())\n",
    "\n",
    "# Get Make From Dataset \n",
    "toyotas = make[\"TOYT\"]"
   ]
  },
  {
   "cell_type": "code",
   "execution_count": 38,
   "id": "b2e034af-a471-4580-ad14-07001ce051c5",
   "metadata": {},
   "outputs": [
    {
     "name": "stdout",
     "output_type": "stream",
     "text": [
      "Number of Toyotas: 173\n",
      "Total Number of Cars Towed: 2889\n"
     ]
    }
   ],
   "source": [
    "print(\"Number of Toyotas:\", toyotas)\n",
    "print(\"Total Number of Cars Towed:\", totalCars)"
   ]
  },
  {
   "cell_type": "code",
   "execution_count": 44,
   "id": "2140abf9-cc09-42ac-84b9-a82e7e9dcb68",
   "metadata": {},
   "outputs": [],
   "source": [
    "# Percent of Toyotas Rounded to One Decimal\n",
    "percent_toyt = round((float(toyotas) / totalCars) * 100, 1)"
   ]
  },
  {
   "cell_type": "code",
   "execution_count": null,
   "id": "636ee57d-bb36-4536-90fb-a87af7893f2a",
   "metadata": {
    "jupyter": {
     "source_hidden": true
    },
    "tags": []
   },
   "outputs": [],
   "source": []
  },
  {
   "cell_type": "code",
   "execution_count": 43,
   "id": "ad6ee5b1-b2e9-4c03-bf16-288d92dde9b5",
   "metadata": {},
   "outputs": [
    {
     "name": "stdout",
     "output_type": "stream",
     "text": [
      "Percentage of Toyotas: 6.0%\n"
     ]
    }
   ],
   "source": [
    "print(\"Percentage of Toyotas: {}%\".format(percent_toyt))"
   ]
  }
 ],
 "metadata": {
  "kernelspec": {
   "display_name": "Python 3",
   "language": "python",
   "name": "python3"
  },
  "language_info": {
   "codemirror_mode": {
    "name": "ipython",
    "version": 3
   },
   "file_extension": ".py",
   "mimetype": "text/x-python",
   "name": "python",
   "nbconvert_exporter": "python",
   "pygments_lexer": "ipython3",
   "version": "3.8.8"
  }
 },
 "nbformat": 4,
 "nbformat_minor": 5
}
